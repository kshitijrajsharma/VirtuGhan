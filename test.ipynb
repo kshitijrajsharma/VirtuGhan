{
 "cells": [
  {
   "cell_type": "code",
   "execution_count": null,
   "metadata": {},
   "outputs": [
    {
     "ename": "",
     "evalue": "",
     "output_type": "error",
     "traceback": [
      "\u001b[1;31mRunning cells with 'Python 3.12.3' requires the ipykernel package.\n",
      "\u001b[1;31mRun the following command to install 'ipykernel' into the Python environment. \n",
      "\u001b[1;31mCommand: '/usr/bin/python3 -m pip install ipykernel -U --user --force-reinstall'"
     ]
    }
   ],
   "source": [
    "import base64\n",
    "import matplotlib.pyplot as plt\n",
    "import numpy as np\n",
    "import rasterio\n",
    "from PIL import Image\n",
    "from pyproj import Transformer\n",
    "from rasterio.windows import from_bounds\n"
   ]
  },
  {
   "cell_type": "code",
   "execution_count": 64,
   "metadata": {},
   "outputs": [],
   "source": [
    "coords = [35.59570312500001,5.878332109674327,118.21289062500001,39.67337039176565]"
   ]
  },
  {
   "cell_type": "markdown",
   "metadata": {},
   "source": [
    "## Window approach"
   ]
  },
  {
   "cell_type": "code",
   "execution_count": null,
   "metadata": {},
   "outputs": [],
   "source": [
    "min_lon, min_lat, max_lon, max_lat = coords\n",
    "\n",
    "transformer = Transformer.from_crs(\"epsg:4326\", \"epsg:3857\", always_xy=True)\n",
    "\n",
    "# Transform to EPSG:3857\n",
    "min_x, min_y = transformer.transform(min_lon, min_lat)\n",
    "max_x, max_y = transformer.transform(max_lon, max_lat)\n",
    "\n",
    "with rasterio.open(\"sentinel_r10_cog.tif\") as src:\n",
    "    window = from_bounds(min_x, min_y, max_x, max_y, src.transform)\n",
    "    red = src.read(4, window=window)\n",
    "    nir = src.read(5, window=window)\n",
    "\n",
    "    ndvi = (nir.astype(float) - red.astype(float)) / (nir + red)\n",
    "    ndvi = np.ma.masked_invalid(ndvi)\n",
    "\n",
    "# Normalize NDVI values to 0-1 for color mapping\n",
    "ndvi_normalized = (ndvi + 1) / 2\n",
    "colormap = plt.get_cmap(\"RdYlGn\")\n",
    "ndvi_colored = colormap(ndvi_normalized)\n",
    "\n",
    "ndvi_image = (ndvi_colored[:, :, :3] * 255).astype(np.uint8)\n",
    "image = Image.fromarray(ndvi_image)"
   ]
  },
  {
   "cell_type": "code",
   "execution_count": null,
   "metadata": {},
   "outputs": [],
   "source": [
    "plt.figure(figsize=(10, 10))\n",
    "plt.imshow(image)\n",
    "plt.title('NDVI Image')\n",
    "plt.axis('off')\n",
    "plt.show()"
   ]
  },
  {
   "cell_type": "code",
   "execution_count": null,
   "metadata": {},
   "outputs": [],
   "source": [
    "with rasterio.open(\"sentinel_r10_4326_cog.tif\") as src:\n",
    "    print(\"Overviews:\", src.overviews(1))  # Assuming band 1, change as needed\n",
    "    print(\"Resolutions:\", [src.res[0] / ov for ov in src.overviews(1)])"
   ]
  },
  {
   "cell_type": "markdown",
   "metadata": {},
   "source": [
    "## Overview approach \n",
    "\n",
    "Still misses correct tiles "
   ]
  },
  {
   "cell_type": "code",
   "execution_count": 92,
   "metadata": {},
   "outputs": [],
   "source": [
    "def get_overview_level(src, band, desired_zoom_level):\n",
    "    base_res = src.res[0] \n",
    "    \n",
    "    overviews = src.overviews(band)\n",
    "    desired_res = base_res / (2 ** desired_zoom_level)\n",
    "    print(\"Desired resolution:\", desired_res)\n",
    "    \n",
    "    overview_level = None\n",
    "    for i, ov in enumerate(overviews):\n",
    "        overview_res = base_res / ov\n",
    "        if overview_res <= desired_res:\n",
    "            overview_level = i\n",
    "            break\n",
    "\n",
    "    if overview_level is None:\n",
    "        overview_level = len(overviews) - 1  # use highest if none match\n",
    "    return overview_level"
   ]
  },
  {
   "cell_type": "code",
   "execution_count": null,
   "metadata": {},
   "outputs": [],
   "source": [
    "with rasterio.open(\"sentinel_r10_cog.tif\") as src:\n",
    "    print(\"Available Overviews for Band 1:\", src.overviews(1))  # Replace 1 with the band number you need\n",
    "    print(\"Base Resolution:\", src.res)\n",
    "    for i, ov in enumerate(src.overviews(1)):\n",
    "        print(f\"Overview {i}: Resolution {src.res[0] / ov}, {src.res[1] / ov}\")\n",
    "    print(get_overview_level(src,1,10))"
   ]
  },
  {
   "cell_type": "code",
   "execution_count": 102,
   "metadata": {},
   "outputs": [],
   "source": [
    "lat, lon =  83.96851, 28.26689\n",
    "zoom_level = 10"
   ]
  },
  {
   "cell_type": "code",
   "execution_count": 103,
   "metadata": {},
   "outputs": [],
   "source": [
    "import mercantile \n",
    "from rasterio.windows import Window\n",
    "tile = mercantile.tile(lon, lat, zoom_level)"
   ]
  },
  {
   "cell_type": "code",
   "execution_count": null,
   "metadata": {},
   "outputs": [],
   "source": [
    "print(tile)"
   ]
  },
  {
   "cell_type": "markdown",
   "metadata": {},
   "source": [
    "## Individual tile approach"
   ]
  },
  {
   "cell_type": "code",
   "execution_count": 109,
   "metadata": {},
   "outputs": [],
   "source": [
    "def read_tile_from_cog(cog_path, tile, zoom, tile_size=256):\n",
    "    with rasterio.open(cog_path) as src:\n",
    "        \n",
    "        # get pixel coords\n",
    "        x_pixel = tile.x * tile_size\n",
    "        y_pixel = tile.y * tile_size\n",
    "        \n",
    "        \n",
    "        window = Window(x_pixel, y_pixel, tile_size, tile_size)\n",
    "        print(window)\n",
    "        \n",
    "        red = src.read(4, window=window, resampling=rasterio.enums.Resampling.nearest)\n",
    "        nir = src.read(5, window=window, resampling=rasterio.enums.Resampling.nearest)\n",
    "        \n",
    "        return red, nir"
   ]
  },
  {
   "cell_type": "code",
   "execution_count": null,
   "metadata": {},
   "outputs": [],
   "source": [
    "cog_path = \"sentinel_r10_cog.tif\"\n",
    "red, nir = read_tile_from_cog(cog_path, tile, zoom_level)\n",
    "print(f\"Red band shape: {red.shape}, NIR band shape: {nir.shape}\")"
   ]
  },
  {
   "cell_type": "code",
   "execution_count": null,
   "metadata": {},
   "outputs": [],
   "source": [
    "# plot red\n",
    "plt.figure(figsize=(10, 5))\n",
    "plt.subplot(1, 2, 1)\n",
    "plt.imshow(red, cmap='Reds')\n",
    "plt.title('Red Band')\n",
    "# plt.colorbar()\n",
    "\n",
    "# plot nir\n",
    "plt.subplot(1, 2, 2)\n",
    "plt.imshow(nir, cmap='Greys')\n",
    "plt.title('NIR Band')\n",
    "# plt.colorbar()\n",
    "\n",
    "# show\n",
    "plt.show()"
   ]
  },
  {
   "cell_type": "code",
   "execution_count": 106,
   "metadata": {},
   "outputs": [],
   "source": [
    "def calculate_ndvi(red, nir):\n",
    "    ndvi = (nir.astype(float) - red.astype(float)) / (nir + red)\n",
    "    ndvi = np.ma.masked_invalid(ndvi)  # Mask invalid values\n",
    "    return ndvi\n",
    "\n",
    "ndvi = calculate_ndvi(red, nir)"
   ]
  },
  {
   "cell_type": "markdown",
   "metadata": {},
   "source": [
    "## Rio - Tiler Approach"
   ]
  },
  {
   "cell_type": "code",
   "execution_count": 201,
   "metadata": {},
   "outputs": [],
   "source": [
    "import mercantile\n",
    "from rio_tiler.io import COGReader"
   ]
  },
  {
   "cell_type": "code",
   "execution_count": null,
   "metadata": {},
   "outputs": [],
   "source": [
    "lat, lon =28.202082, 83.987222\n",
    "zoom_level = 10\n",
    "tile = mercantile.tile(lon, lat, zoom_level)\n",
    "print(tile)\n",
    "tile_bounds = mercantile.bounds(tile)\n",
    "print(tile_bounds)"
   ]
  },
  {
   "cell_type": "code",
   "execution_count": 219,
   "metadata": {},
   "outputs": [],
   "source": [
    "cog_path = \"sentinel_r10_cog.tif\""
   ]
  },
  {
   "cell_type": "code",
   "execution_count": null,
   "metadata": {},
   "outputs": [],
   "source": [
    "with COGReader(cog_path) as cog:\n",
    "    print(cog.crs)\n",
    "    print(cog.bounds)\n",
    "    print(cog.minzoom)\n",
    "    print(cog.maxzoom)\n",
    "    print(cog.tms)\n",
    "    tile_data,mask = cog.tile(tile.x,tile.y, zoom_level)\n",
    "    print(tile_data.shape)\n",
    "    "
   ]
  },
  {
   "cell_type": "code",
   "execution_count": null,
   "metadata": {},
   "outputs": [],
   "source": [
    "\n",
    "r = tile_data[1]\n",
    "g = tile_data[2]\n",
    "b = tile_data[3]\n",
    "nir = tile_data[4]\n",
    "# Normalize the 16-bit data to the [0, 1] range for visualization\n",
    "r_norm = (r - np.min(r)) / (np.max(r) - np.min(r))\n",
    "g_norm = (g - np.min(g)) / (np.max(g) - np.min(g))\n",
    "b_norm = (b - np.min(b)) / (np.max(b) - np.min(b))\n",
    "\n",
    "\n",
    "ndvi = (nir.astype(float) - r.astype(float)) / (nir + r)\n",
    "ndvi = np.ma.masked_invalid(ndvi)\n",
    "ndvi_normalized = (ndvi + 1) / 2\n",
    "\n",
    "rgb = np.stack((r_norm, g_norm, b_norm), axis=-1)\n",
    "\n",
    "plt.figure(figsize=(10, 10))\n",
    "plt.imshow(rgb)\n",
    "plt.title('RGB Composite')\n",
    "plt.show()\n",
    "\n",
    "\n",
    "plt.figure(figsize=(10, 10))\n",
    "plt.imshow(ndvi_normalized)\n",
    "plt.title('NDVI')\n",
    "plt.show()"
   ]
  },
  {
   "cell_type": "code",
   "execution_count": null,
   "metadata": {},
   "outputs": [],
   "source": []
  }
 ],
 "metadata": {
  "kernelspec": {
   "display_name": "Python 3",
   "language": "python",
   "name": "python3"
  },
  "language_info": {
   "codemirror_mode": {
    "name": "ipython",
    "version": 3
   },
   "file_extension": ".py",
   "mimetype": "text/x-python",
   "name": "python",
   "nbconvert_exporter": "python",
   "pygments_lexer": "ipython3",
   "version": "3.12.3"
  }
 },
 "nbformat": 4,
 "nbformat_minor": 2
}
