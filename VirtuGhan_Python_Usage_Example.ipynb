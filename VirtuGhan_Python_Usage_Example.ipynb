{
  "nbformat": 4,
  "nbformat_minor": 0,
  "metadata": {
    "colab": {
      "provenance": [],
      "authorship_tag": "ABX9TyOjB9nAkX+36VhC6kLYSZ6/",
      "include_colab_link": true
    },
    "kernelspec": {
      "name": "python3",
      "display_name": "Python 3"
    },
    "language_info": {
      "name": "python"
    }
  },
  "cells": [
    {
      "cell_type": "markdown",
      "metadata": {
        "id": "view-in-github",
        "colab_type": "text"
      },
      "source": [
        "<a href=\"https://colab.research.google.com/github/kshitijrajsharma/VirtuGhan/blob/master/VirtuGhan_Python_Usage_Example.ipynb\" target=\"_parent\"><img src=\"https://colab.research.google.com/assets/colab-badge.svg\" alt=\"Open In Colab\"/></a>"
      ]
    },
    {
      "cell_type": "markdown",
      "source": [
        "## Install\n",
        "\n",
        "Installation is easy just grab it form pip"
      ],
      "metadata": {
        "id": "0aCmwP2CkUTg"
      }
    },
    {
      "cell_type": "code",
      "execution_count": null,
      "metadata": {
        "id": "mY3qHW1bejH3"
      },
      "outputs": [],
      "source": [
        "!pip install VirtuGhan==0.1.1"
      ]
    },
    {
      "cell_type": "markdown",
      "source": [
        "## Setup\n",
        "\n",
        "Define the parameters for your computation"
      ],
      "metadata": {
        "id": "acrgIzqakMIf"
      }
    },
    {
      "cell_type": "code",
      "source": [
        "# Define the bounding box\n",
        "bbox = [83.84765625, 28.22697003891833, 83.935546875, 28.304380682962773]\n",
        "\n",
        "# Define the parameters\n",
        "start_date = \"2020-01-01\"\n",
        "end_date = \"2025-01-01\" # Process five years worth of data\n",
        "cloud_cover = 30\n",
        "formula = \"(band2-band1)/(band2+band1)\"  # NDVI formula\n",
        "band1 = \"red\"\n",
        "band2 = \"nir\"\n",
        "operation = \"median\"\n",
        "output_dir = \"virtughan_output\"\n",
        "timeseries = True\n",
        "workers = 32 # no of parallel workers"
      ],
      "metadata": {
        "id": "tEl6cOdUeohe"
      },
      "execution_count": null,
      "outputs": []
    },
    {
      "cell_type": "markdown",
      "source": [
        "## Cleanup\n",
        "Lets clear if there are previous output in the dir"
      ],
      "metadata": {
        "id": "9LInDrmlkQSc"
      }
    },
    {
      "cell_type": "code",
      "source": [
        "import shutil , os\n",
        "if os.path.exists(output_dir):\n",
        "    shutil.rmtree(output_dir)"
      ],
      "metadata": {
        "id": "0zvaBdXwkFoQ"
      },
      "execution_count": null,
      "outputs": []
    },
    {
      "cell_type": "markdown",
      "source": [
        "## Compute\n",
        "You can run computation now , You can visualize the results or download them from the files directly after computation is done"
      ],
      "metadata": {
        "id": "-SjGtNG7kdYP"
      }
    },
    {
      "cell_type": "code",
      "source": [
        "from vcube.engine import VCubeProcessor\n",
        "\n",
        "processor = VCubeProcessor(\n",
        "    bbox,\n",
        "    start_date,\n",
        "    end_date,\n",
        "    cloud_cover,\n",
        "    formula,\n",
        "    band1,\n",
        "    band2,\n",
        "    operation,\n",
        "    timeseries,\n",
        "    output_dir,\n",
        ")\n",
        "processor.compute()"
      ],
      "metadata": {
        "colab": {
          "base_uri": "https://localhost:8080/"
        },
        "id": "9fB66CJBe634",
        "outputId": "0246e7f4-29f6-46a6-b2b0-92c3c9edb868"
      },
      "execution_count": null,
      "outputs": [
        {
          "output_type": "stream",
          "name": "stdout",
          "text": [
            "Engine starting...\n",
            "Searching STAC API...\n",
            "Found 68 items\n",
            "Filtered 68 items that are completely within the input bounding box\n",
            "Computing Band Calculation: 100%|██████████| 68/68 [02:08<00:00,  1.89s/it]\n",
            "Aggregating results...\n",
            "Saving aggregated result with colormap...\n",
            "Creating GIF and zipping TIFF files...\n",
            "Saved GIF to virtughan_output/output.gif\n",
            "Saved ZIP to virtughan_output/tiff_files.zip\n"
          ]
        }
      ]
    },
    {
      "cell_type": "code",
      "source": [],
      "metadata": {
        "id": "3waetdbikj1F"
      },
      "execution_count": null,
      "outputs": []
    }
  ]
}